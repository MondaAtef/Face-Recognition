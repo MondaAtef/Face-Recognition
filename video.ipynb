{
 "cells": [
  {
   "cell_type": "code",
   "execution_count": 7,
   "metadata": {},
   "outputs": [
    {
     "ename": "SyntaxError",
     "evalue": "unterminated string literal (detected at line 19) (580789616.py, line 19)",
     "output_type": "error",
     "traceback": [
      "\u001b[1;36m  Cell \u001b[1;32mIn[7], line 19\u001b[1;36m\u001b[0m\n\u001b[1;33m    cv2.imwrite (r\"C:\\Users\\Office\\Downloads\\pattern_project\\Original Images\\train\\\"+\"barak_%d.jpg\" %cpt, frame)\u001b[0m\n\u001b[1;37m                                                                                                  ^\u001b[0m\n\u001b[1;31mSyntaxError\u001b[0m\u001b[1;31m:\u001b[0m unterminated string literal (detected at line 19)\n"
     ]
    }
   ],
   "source": [
    "import cv2    \n",
    "import time\n",
    "cpt = 0\n",
    "maxFrames = 120 # if you want 5 frames only.\n",
    "\n",
    "count=0\n",
    "cap = cv2.VideoCapture('C:/Users/Office/Downloads/pattern_project/barak.mp4')\n",
    "\n",
    "cap=cv2.VideoCapture('barak.mp4')\n",
    "while cpt < maxFrames:\n",
    "    ret, frame = cap.read()\n",
    "    if not ret:\n",
    "        break\n",
    "    count += 1\n",
    "    if count % 3 != 0:\n",
    "        continue\n",
    "    frame=cv2.resize(frame,(1080,500))\n",
    "    cv2.imshow(\"test window\", frame) # show image in window\n",
    "    cv2.imwrite (r\"C:\\Users\\Office\\Downloads\\pattern_project\\Original Images\\train\\\"+\"barak_%d.jpg\" %cpt, frame)\n",
    "    time.sleep(0.01)\n",
    "    cpt += 1\n",
    "    if cv2.waitKey(5)&0xFF==27:\n",
    "        break\n",
    "cap.release()   \n",
    "cv2.destroyAllWindows()"
   ]
  }
 ],
 "metadata": {
  "kernelspec": {
   "display_name": "Python 3",
   "language": "python",
   "name": "python3"
  },
  "language_info": {
   "codemirror_mode": {
    "name": "ipython",
    "version": 3
   },
   "file_extension": ".py",
   "mimetype": "text/x-python",
   "name": "python",
   "nbconvert_exporter": "python",
   "pygments_lexer": "ipython3",
   "version": "3.12.3"
  }
 },
 "nbformat": 4,
 "nbformat_minor": 2
}
